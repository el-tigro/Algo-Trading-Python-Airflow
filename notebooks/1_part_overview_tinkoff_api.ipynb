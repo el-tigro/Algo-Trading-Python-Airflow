{
 "cells": [
  {
   "cell_type": "code",
   "execution_count": 10,
   "id": "2933858d",
   "metadata": {},
   "outputs": [
    {
     "name": "stdout",
     "output_type": "stream",
     "text": [
      "C:\\Users\\Samsung\\Documents\\Courses\\algo-trading-python-airflow\\tinkoff\n"
     ]
    }
   ],
   "source": [
    "cd C:\\Users\\Samsung\\Documents\\Courses\\algo-trading-python-airflow\\tinkoff\\"
   ]
  },
  {
   "cell_type": "code",
   "execution_count": 11,
   "id": "f747b0ee",
   "metadata": {
    "scrolled": true
   },
   "outputs": [
    {
     "name": "stdout",
     "output_type": "stream",
     "text": [
      " Том в устройстве C не имеет метки.\n",
      " Серийный номер тома: F4CB-E92B\n",
      "\n",
      " Содержимое папки C:\\Users\\Samsung\\Documents\\Courses\\algo-trading-python-airflow\\tinkoff\\airflow\n",
      "\n",
      "29.08.2023  00:35    <DIR>          .\n",
      "29.08.2023  00:17    <DIR>          ..\n",
      "26.08.2023  20:13               757 airflow.cfg\n",
      "26.08.2023  20:13             3 254 Dockerfile\n",
      "26.08.2023  20:13               104 entrypoint.sh\n",
      "29.08.2023  00:35               128 tinkoff.cfg\n",
      "26.08.2023  20:13             2 261 unittests.cfg\n",
      "26.08.2023  20:13             4 563 webserver_config.py\n",
      "               6 файлов         11 067 байт\n",
      "               2 папок  346 432 495 616 байт свободно\n"
     ]
    }
   ],
   "source": [
    "ls airflow"
   ]
  },
  {
   "cell_type": "code",
   "execution_count": null,
   "id": "32b6e0c1",
   "metadata": {},
   "outputs": [],
   "source": []
  },
  {
   "cell_type": "code",
   "execution_count": 63,
   "id": "90380eaa",
   "metadata": {},
   "outputs": [],
   "source": [
    "import tinvest\n",
    "from tinkoff.invest import Client\n",
    "import pandas as pd\n",
    "from datetime import datetime, timedelta\n",
    "from configparser import ConfigParser\n",
    "\n",
    "import logging\n",
    "\n",
    "\n",
    "import pandas as pd\n",
    "from datetime import datetime, timedelta\n",
    "from configparser import ConfigParser\n",
    "\n",
    "from tinkoff.invest import Client, AsyncClient, PortfolioPosition, OrderDirection\n",
    "from tinkoff.invest.constants import INVEST_GRPC_API, INVEST_GRPC_API_SANDBOX\n",
    "from tinkoff.invest.schemas import CurrenciesResponse\n",
    "from tinkoff.invest.utils import now, quotation_to_decimal\n",
    "from tinkoff.invest.sandbox.client import SandboxClient\n",
    "from tinkoff.invest import CandleInterval, MoneyValue\n",
    "from tinkoff.invest.typedefs import ShareId, AccountId\n",
    "\n",
    "from tinkoff.invest.services import OrdersService"
   ]
  },
  {
   "cell_type": "code",
   "execution_count": 64,
   "id": "c33552a5",
   "metadata": {},
   "outputs": [],
   "source": [
    "config_parser = ConfigParser()"
   ]
  },
  {
   "cell_type": "code",
   "execution_count": 65,
   "id": "7de2027a",
   "metadata": {},
   "outputs": [
    {
     "name": "stdout",
     "output_type": "stream",
     "text": [
      "C:\\Users\\Samsung\\Documents\\Courses\\algo-trading-python-airflow\\tinkoff\n"
     ]
    }
   ],
   "source": [
    "cd C:\\Users\\Samsung\\Documents\\Courses\\algo-trading-python-airflow\\tinkoff\\"
   ]
  },
  {
   "cell_type": "code",
   "execution_count": 66,
   "id": "6bfacdc4",
   "metadata": {},
   "outputs": [
    {
     "data": {
      "text/plain": [
       "['airflow/tinkoff.cfg']"
      ]
     },
     "execution_count": 66,
     "metadata": {},
     "output_type": "execute_result"
    }
   ],
   "source": [
    "config_parser.read('airflow/tinkoff.cfg')"
   ]
  },
  {
   "cell_type": "code",
   "execution_count": 67,
   "id": "df2875d2",
   "metadata": {},
   "outputs": [],
   "source": [
    "token = config_parser.get('core','TOKEN_TINKOFF')"
   ]
  },
  {
   "cell_type": "code",
   "execution_count": 71,
   "id": "02f9442c",
   "metadata": {},
   "outputs": [],
   "source": [
    "token = 't.lxhlQNFDc0CPZSY_P5DaqSBTKPTX9vYUmTocBKaLRdCAUChVfyLlzzRl4WNawsPfT1daqxslvvxMF7Ri62_ttw'"
   ]
  },
  {
   "cell_type": "code",
   "execution_count": 72,
   "id": "c8ce6a01",
   "metadata": {},
   "outputs": [],
   "source": [
    "# client = tinvest.SyncClient(token, use_sandbox=True)\n",
    "# client.get_portfolio_currencies()"
   ]
  },
  {
   "cell_type": "code",
   "execution_count": 73,
   "id": "536ed574",
   "metadata": {},
   "outputs": [
    {
     "name": "stdout",
     "output_type": "stream",
     "text": [
      "92e51366-7ab5-4159-ad9f-ad5fa93973bf MoneyValue(currency='usd', units=50000, nano=690000000)\n",
      "futures\n",
      "[]\n",
      "Money\n",
      "[MoneyValue(currency='usd', units=50000, nano=690000000)]\n",
      "currency\n",
      "usd\n",
      "usd\n",
      "50000.69000000\n",
      "get_operations\n",
      "OperationsResponse(operations=[Operation(id='ce9bf0b6-b5aa-4bd1-b554-9263f5a6d664', parent_operation_id='', currency='usd', payment=MoneyValue(currency='usd', units=50000, nano=690000000), price=MoneyValue(currency='usd', units=0, nano=0), state=<OperationState.OPERATION_STATE_EXECUTED: 1>, quantity=0, quantity_rest=0, figi='BBG0013HGFT4', instrument_type='', date=datetime.datetime(2023, 9, 13, 14, 10, 54, 619499, tzinfo=datetime.timezone.utc), type='Завод денежных средств', operation_type=<OperationType.OPERATION_TYPE_INPUT: 1>, trades=[], asset_uid='', position_uid='6e97aa9b-50b6-4738-bce7-17313f2b2cc2', instrument_uid='a22a1263-8e1b-4546-a1aa-416463f104d3')])\n",
      "get_portfolio\n",
      "[PortfolioPosition(figi='BBG0013HGFT4', instrument_type='currency', quantity=Quotation(units=50000, nano=690000000), average_position_price=MoneyValue(currency='rub', units=0, nano=0), expected_yield=Quotation(units=0, nano=0), current_nkd=MoneyValue(currency='', units=0, nano=0), average_position_price_pt=Quotation(units=0, nano=0), current_price=MoneyValue(currency='rub', units=96, nano=485000000), average_position_price_fifo=MoneyValue(currency='rub', units=0, nano=0), quantity_lots=Quotation(units=50, nano=690000), blocked=False, blocked_lots=Quotation(units=0, nano=0), position_uid='6e97aa9b-50b6-4738-bce7-17313f2b2cc2', instrument_uid='a22a1263-8e1b-4546-a1aa-416463f104d3', var_margin=MoneyValue(currency='', units=0, nano=0), expected_yield_fifo=Quotation(units=0, nano=0))]\n",
      "b8b69751-44ad-4074-8cc4-ab056ae56a34 MoneyValue(currency='rub', units=200000, nano=690000000)\n",
      "futures\n",
      "[]\n",
      "Money\n",
      "[MoneyValue(currency='rub', units=200000, nano=690000000)]\n",
      "currency\n",
      "rub\n",
      "rub\n",
      "200000.69000000\n",
      "get_operations\n",
      "OperationsResponse(operations=[Operation(id='e88a5bab-e8f0-4d9d-a925-3128581dd48c', parent_operation_id='', currency='RUB', payment=MoneyValue(currency='rub', units=200000, nano=690000000), price=MoneyValue(currency='rub', units=0, nano=0), state=<OperationState.OPERATION_STATE_EXECUTED: 1>, quantity=0, quantity_rest=0, figi='RUB000UTSTOM', instrument_type='', date=datetime.datetime(2023, 9, 13, 14, 10, 55, 310883, tzinfo=datetime.timezone.utc), type='Завод денежных средств', operation_type=<OperationType.OPERATION_TYPE_INPUT: 1>, trades=[], asset_uid='', position_uid='33e24a92-aab0-409c-88b8-f2d57415b920', instrument_uid='a92e2e25-a698-45cc-a781-167cf465257c')])\n",
      "get_portfolio\n",
      "[PortfolioPosition(figi='RUB000UTSTOM', instrument_type='currency', quantity=Quotation(units=200000, nano=690000000), average_position_price=MoneyValue(currency='', units=0, nano=0), expected_yield=Quotation(units=0, nano=0), current_nkd=MoneyValue(currency='', units=0, nano=0), average_position_price_pt=Quotation(units=0, nano=0), current_price=MoneyValue(currency='', units=0, nano=0), average_position_price_fifo=MoneyValue(currency='', units=0, nano=0), quantity_lots=Quotation(units=200000, nano=690000000), blocked=False, blocked_lots=Quotation(units=0, nano=0), position_uid='33e24a92-aab0-409c-88b8-f2d57415b920', instrument_uid='a92e2e25-a698-45cc-a781-167cf465257c', var_margin=MoneyValue(currency='', units=0, nano=0), expected_yield_fifo=Quotation(units=0, nano=0))]\n",
      "GetAccountsResponse(accounts=[Account(id='92e51366-7ab5-4159-ad9f-ad5fa93973bf', type=<AccountType.ACCOUNT_TYPE_TINKOFF: 1>, name='', status=<AccountStatus.ACCOUNT_STATUS_OPEN: 2>, opened_date=datetime.datetime(2023, 9, 13, 14, 10, 54, 459878, tzinfo=datetime.timezone.utc), closed_date=datetime.datetime(1970, 1, 1, 0, 0, tzinfo=datetime.timezone.utc), access_level=<AccessLevel.ACCOUNT_ACCESS_LEVEL_FULL_ACCESS: 1>), Account(id='b8b69751-44ad-4074-8cc4-ab056ae56a34', type=<AccountType.ACCOUNT_TYPE_TINKOFF: 1>, name='', status=<AccountStatus.ACCOUNT_STATUS_OPEN: 2>, opened_date=datetime.datetime(2023, 9, 13, 14, 10, 55, 154038, tzinfo=datetime.timezone.utc), closed_date=datetime.datetime(1970, 1, 1, 0, 0, tzinfo=datetime.timezone.utc), access_level=<AccessLevel.ACCOUNT_ACCESS_LEVEL_FULL_ACCESS: 1>)])\n"
     ]
    }
   ],
   "source": [
    "TOKEN = token\n",
    "\n",
    "balances = [MoneyValue(currency=\"usd\", units=50000, nano=690000000),\n",
    "            MoneyValue(currency=\"rub\", units=200000, nano=690000000)]\n",
    "\n",
    "with Client(TOKEN, target=INVEST_GRPC_API_SANDBOX) as client:\n",
    "#     print(client.users.get_accounts())\n",
    "    \n",
    "    # Закрываем все аккаунты\n",
    "    for sandbox_account in client.users.get_accounts().accounts:\n",
    "        account_id = sandbox_account.id\n",
    "        client.sandbox.close_sandbox_account(account_id = account_id)\n",
    "    \n",
    "    # Закрываем новые аккаунты из balances\n",
    "    for i in range(len(balances)):\n",
    "        balance = balances[i]\n",
    "        client.sandbox.open_sandbox_account()\n",
    "        sandbox_account = client.users.get_accounts().accounts[i]\n",
    "        account_id = sandbox_account.id\n",
    "        print(account_id, balances[i])\n",
    "        client.sandbox.sandbox_pay_in(account_id = account_id, amount = balance)\n",
    "        print('futures')\n",
    "        print(client.operations.get_positions(account_id = account_id).futures)\n",
    "        print('Money')\n",
    "        print(client.operations.get_positions(account_id = account_id).money)\n",
    "        print('currency')\n",
    "        money_value, *_ = client.operations.get_positions(account_id = account_id).money\n",
    "        currency = money_value.currency\n",
    "        print(currency)\n",
    "        money_value = client.operations.get_positions(account_id = account_id).money[0]\n",
    "        currency = money_value.currency\n",
    "        print(currency)\n",
    "        print(quotation_to_decimal(money_value))\n",
    "        print('get_operations')\n",
    "        print(client.operations.get_operations(account_id = account_id))\n",
    "        print('get_portfolio')\n",
    "        print(client.operations.get_portfolio(account_id = account_id).positions)\n",
    "    print(client.users.get_accounts())\n",
    "    \n",
    "#     client.orders.post_order(account_id=kkk,direction=kkk,figi=hhh,order_id=fff,quantity=ddd,order_type=,price=kk,)\n",
    "    \n",
    "\n",
    "    \n",
    "\n",
    "# with Client(TOKEN, target=INVEST_GRPC_API_SANDBOX) as client:\n",
    "#         print('BBG001M2SC01')\n",
    "#         r = client.instruments.find_instrument(query=\"BBG001M2SC01\")\n",
    "#         for i in r.instruments:\n",
    "#             print(i)\n",
    "#         print(\"USD000UTSTOM\")\n",
    "#         r = client.instruments.find_instrument(query=\"USD000UTSTOM\")\n",
    "#         for i in r.instruments:\n",
    "#             print(i)\n",
    "#         print(\"EUR000UTSTOM\")\n",
    "#         r = client.instruments.find_instrument(query=\"EUR000UTSTOM\")\n",
    "#         for i in r.instruments:\n",
    "#             print(i)\n",
    "            \n",
    "#         currencies = client.instruments.currencies()\n",
    "#         for i in currencies.instruments:\n",
    "#             print(i)\n",
    "\n",
    "   "
   ]
  },
  {
   "cell_type": "code",
   "execution_count": 76,
   "id": "3d38b99b",
   "metadata": {},
   "outputs": [
    {
     "name": "stdout",
     "output_type": "stream",
     "text": [
      "Account(id='92e51366-7ab5-4159-ad9f-ad5fa93973bf', type=<AccountType.ACCOUNT_TYPE_TINKOFF: 1>, name='', status=<AccountStatus.ACCOUNT_STATUS_OPEN: 2>, opened_date=datetime.datetime(2023, 9, 13, 14, 10, 54, 459878, tzinfo=datetime.timezone.utc), closed_date=datetime.datetime(1970, 1, 1, 0, 0, tzinfo=datetime.timezone.utc), access_level=<AccessLevel.ACCOUNT_ACCESS_LEVEL_FULL_ACCESS: 1>)\n",
      "[PortfolioPosition(figi='BBG0013HGFT4', instrument_type='currency', quantity=Quotation(units=50000, nano=690000000), average_position_price=MoneyValue(currency='rub', units=0, nano=0), expected_yield=Quotation(units=0, nano=0), current_nkd=MoneyValue(currency='', units=0, nano=0), average_position_price_pt=Quotation(units=0, nano=0), current_price=MoneyValue(currency='rub', units=96, nano=560000000), average_position_price_fifo=MoneyValue(currency='rub', units=0, nano=0), quantity_lots=Quotation(units=50, nano=690000), blocked=False, blocked_lots=Quotation(units=0, nano=0), position_uid='6e97aa9b-50b6-4738-bce7-17313f2b2cc2', instrument_uid='a22a1263-8e1b-4546-a1aa-416463f104d3', var_margin=MoneyValue(currency='', units=0, nano=0), expected_yield_fifo=Quotation(units=0, nano=0))]\n",
      "[]\n"
     ]
    }
   ],
   "source": [
    "with Client(TOKEN, target=INVEST_GRPC_API_SANDBOX) as client:\n",
    "\n",
    "    response = client.users.get_accounts()\n",
    "    account, *_ = response.accounts\n",
    "    account_id = account.id\n",
    "    \n",
    "    print(account)\n",
    "    \n",
    "    positions = client.operations.get_portfolio(account_id = account_id).positions\n",
    "    \n",
    "    print(positions)\n",
    "    \n",
    "    filtered_position = list(filter(lambda x: x.figi.lower() == 'AAPL'.lower(), positions))\n",
    "    print(filtered_position)"
   ]
  },
  {
   "cell_type": "code",
   "execution_count": 78,
   "id": "9b25f766",
   "metadata": {},
   "outputs": [
    {
     "name": "stdout",
     "output_type": "stream",
     "text": [
      "usd 50000.69000000\n"
     ]
    }
   ],
   "source": [
    "with Client(TOKEN, target=INVEST_GRPC_API_SANDBOX) as client:\n",
    "\n",
    "    response = client.users.get_accounts()\n",
    "    account, *_ = response.accounts\n",
    "    account_id = account.id\n",
    "\n",
    "    for money_value in client.operations.get_positions(account_id=account_id).money:\n",
    "        currency = money_value.currency\n",
    "        balance = quotation_to_decimal(money_value)\n",
    "        print(currency, balance)"
   ]
  },
  {
   "cell_type": "code",
   "execution_count": 24,
   "id": "648481db",
   "metadata": {},
   "outputs": [
    {
     "name": "stdout",
     "output_type": "stream",
     "text": [
      "95a31ff0-8ec6-4897-ba65-d4851f7c14ce\n",
      "[]\n",
      "f9f79831-9e6e-4700-9199-e937a19b91ce\n",
      "[]\n"
     ]
    }
   ],
   "source": [
    "with Client(TOKEN, target=INVEST_GRPC_API_SANDBOX) as client:\n",
    "\n",
    "#     print(client.users.get_accounts())\n",
    "    for account in client.users.get_accounts().accounts:\n",
    "        print(account.id)\n",
    "        account_id = account.id\n",
    "        feature = client.operations.get_positions(account_id=account_id).futures\n",
    "        print(feature)\n",
    "        client.instruments."
   ]
  },
  {
   "cell_type": "code",
   "execution_count": 25,
   "id": "a8c9d624",
   "metadata": {},
   "outputs": [
    {
     "name": "stdout",
     "output_type": "stream",
     "text": [
      "APPL\n",
      "InstrumentShort(isin='US0378331005', figi='BBG000B9XRY4', ticker='AAPL', class_code='SPBXM', instrument_type='share', name='Apple', uid='a9eb4238-eba9-488c-b102-b6140fd08e38', position_uid='5c5e6656-c4d3-4391-a7ee-e81a76f1804e', instrument_kind=<InstrumentType.INSTRUMENT_TYPE_SHARE: 2>, api_trade_available_flag=True, for_iis_flag=True, first_1min_candle_date=datetime.datetime(2018, 1, 23, 7, 34, tzinfo=datetime.timezone.utc), first_1day_candle_date=datetime.datetime(1988, 9, 12, 0, 0, tzinfo=datetime.timezone.utc), for_qual_investor_flag=True, weekend_flag=False, blocked_tca_flag=False)\n",
      "BBG000B9XRY4\n"
     ]
    }
   ],
   "source": [
    "with Client(TOKEN, target=INVEST_GRPC_API_SANDBOX) as client:\n",
    "        print('APPL')\n",
    "        r = client.instruments.find_instrument(query=\"AAPL\")\n",
    "        print(r.instruments[0])\n",
    "        aapl_figi= r.instruments[0].figi\n",
    "        print(aapl_figi)\n",
    "        \n",
    "        data = client.market_data.get_candles(\n",
    "            figi=aapl_figi, \n",
    "            from_ = datetime.now() - timedelta(days=365), \n",
    "            to = datetime.now(), \n",
    "            interval = CandleInterval.CANDLE_INTERVAL_DAY\n",
    "        )\n",
    "#         print(data.candles)\n",
    "#         for candle in data.candles:\n",
    "#             print('high=', candle.high, '; low=',candle.low)\n",
    "            \n",
    "        df = pd.DataFrame(\n",
    "            data=(\n",
    "                (\n",
    "                    candle.time,\n",
    "                    quotation_to_decimal(candle.open),\n",
    "                    quotation_to_decimal(candle.high),\n",
    "                    quotation_to_decimal(candle.low),\n",
    "                    quotation_to_decimal(candle.close),\n",
    "                    candle.volume\n",
    "                )  for candle in data.candles\n",
    "            ),\n",
    "            columns=['time',\n",
    "                    'open',\n",
    "                    'high',\n",
    "                    'low',\n",
    "                    'close',\n",
    "                    'volume'\n",
    "                    ]\n",
    "        )"
   ]
  },
  {
   "cell_type": "code",
   "execution_count": 202,
   "id": "77ff552b",
   "metadata": {},
   "outputs": [
    {
     "data": {
      "text/html": [
       "<div>\n",
       "<style scoped>\n",
       "    .dataframe tbody tr th:only-of-type {\n",
       "        vertical-align: middle;\n",
       "    }\n",
       "\n",
       "    .dataframe tbody tr th {\n",
       "        vertical-align: top;\n",
       "    }\n",
       "\n",
       "    .dataframe thead th {\n",
       "        text-align: right;\n",
       "    }\n",
       "</style>\n",
       "<table border=\"1\" class=\"dataframe\">\n",
       "  <thead>\n",
       "    <tr style=\"text-align: right;\">\n",
       "      <th></th>\n",
       "      <th>time</th>\n",
       "      <th>open</th>\n",
       "      <th>high</th>\n",
       "      <th>low</th>\n",
       "      <th>close</th>\n",
       "      <th>volume</th>\n",
       "    </tr>\n",
       "  </thead>\n",
       "  <tbody>\n",
       "    <tr>\n",
       "      <th>0</th>\n",
       "      <td>2022-08-30 04:00:00+00:00</td>\n",
       "      <td>162.39000000</td>\n",
       "      <td>163.76000000</td>\n",
       "      <td>157.73000000</td>\n",
       "      <td>159.03000000</td>\n",
       "      <td>16632756</td>\n",
       "    </tr>\n",
       "    <tr>\n",
       "      <th>1</th>\n",
       "      <td>2022-08-31 04:00:00+00:00</td>\n",
       "      <td>160.17000000</td>\n",
       "      <td>160.57000000</td>\n",
       "      <td>156.54000000</td>\n",
       "      <td>156.55000000</td>\n",
       "      <td>29376147</td>\n",
       "    </tr>\n",
       "    <tr>\n",
       "      <th>2</th>\n",
       "      <td>2022-09-01 04:00:00+00:00</td>\n",
       "      <td>155.92000000</td>\n",
       "      <td>158.69000000</td>\n",
       "      <td>152.20000000</td>\n",
       "      <td>158.32000000</td>\n",
       "      <td>18059818</td>\n",
       "    </tr>\n",
       "    <tr>\n",
       "      <th>3</th>\n",
       "      <td>2022-09-02 04:00:00+00:00</td>\n",
       "      <td>157.85000000</td>\n",
       "      <td>160.36000000</td>\n",
       "      <td>154.96000000</td>\n",
       "      <td>155.80000000</td>\n",
       "      <td>19456157</td>\n",
       "    </tr>\n",
       "    <tr>\n",
       "      <th>4</th>\n",
       "      <td>2022-09-03 04:00:00+00:00</td>\n",
       "      <td>155.48000000</td>\n",
       "      <td>156.19000000</td>\n",
       "      <td>155.04000000</td>\n",
       "      <td>155.92000000</td>\n",
       "      <td>390</td>\n",
       "    </tr>\n",
       "  </tbody>\n",
       "</table>\n",
       "</div>"
      ],
      "text/plain": [
       "                       time          open          high           low  \\\n",
       "0 2022-08-30 04:00:00+00:00  162.39000000  163.76000000  157.73000000   \n",
       "1 2022-08-31 04:00:00+00:00  160.17000000  160.57000000  156.54000000   \n",
       "2 2022-09-01 04:00:00+00:00  155.92000000  158.69000000  152.20000000   \n",
       "3 2022-09-02 04:00:00+00:00  157.85000000  160.36000000  154.96000000   \n",
       "4 2022-09-03 04:00:00+00:00  155.48000000  156.19000000  155.04000000   \n",
       "\n",
       "          close    volume  \n",
       "0  159.03000000  16632756  \n",
       "1  156.55000000  29376147  \n",
       "2  158.32000000  18059818  \n",
       "3  155.80000000  19456157  \n",
       "4  155.92000000       390  "
      ]
     },
     "execution_count": 202,
     "metadata": {},
     "output_type": "execute_result"
    }
   ],
   "source": [
    "df.head()"
   ]
  },
  {
   "cell_type": "markdown",
   "id": "7b359968",
   "metadata": {},
   "source": [
    "## 2. Save to DB"
   ]
  },
  {
   "cell_type": "code",
   "execution_count": 203,
   "id": "73f6a52d",
   "metadata": {},
   "outputs": [],
   "source": [
    "import psycopg2\n",
    "from io import StringIO\n",
    "import csv"
   ]
  },
  {
   "cell_type": "code",
   "execution_count": 204,
   "id": "bdfbe6ca",
   "metadata": {},
   "outputs": [
    {
     "name": "stdout",
     "output_type": "stream",
     "text": [
      "<class 'pandas.core.frame.DataFrame'>\n",
      "RangeIndex: 301 entries, 0 to 300\n",
      "Data columns (total 6 columns):\n",
      " #   Column  Non-Null Count  Dtype              \n",
      "---  ------  --------------  -----              \n",
      " 0   time    301 non-null    datetime64[ns, UTC]\n",
      " 1   open    301 non-null    object             \n",
      " 2   high    301 non-null    object             \n",
      " 3   low     301 non-null    object             \n",
      " 4   close   301 non-null    object             \n",
      " 5   volume  301 non-null    int64              \n",
      "dtypes: datetime64[ns, UTC](1), int64(1), object(4)\n",
      "memory usage: 14.2+ KB\n"
     ]
    }
   ],
   "source": [
    "df.info()"
   ]
  },
  {
   "cell_type": "code",
   "execution_count": 205,
   "id": "d938de76",
   "metadata": {},
   "outputs": [],
   "source": [
    "df[df.columns[1:-1]] = df[df.columns[1:-1]].astype(float)"
   ]
  },
  {
   "cell_type": "code",
   "execution_count": 207,
   "id": "b394186e",
   "metadata": {},
   "outputs": [
    {
     "name": "stdout",
     "output_type": "stream",
     "text": [
      "<class 'pandas.core.frame.DataFrame'>\n",
      "RangeIndex: 301 entries, 0 to 300\n",
      "Data columns (total 6 columns):\n",
      " #   Column  Non-Null Count  Dtype              \n",
      "---  ------  --------------  -----              \n",
      " 0   time    301 non-null    datetime64[ns, UTC]\n",
      " 1   open    301 non-null    float64            \n",
      " 2   high    301 non-null    float64            \n",
      " 3   low     301 non-null    float64            \n",
      " 4   close   301 non-null    float64            \n",
      " 5   volume  301 non-null    int64              \n",
      "dtypes: datetime64[ns, UTC](1), float64(4), int64(1)\n",
      "memory usage: 14.2 KB\n"
     ]
    }
   ],
   "source": [
    "df.info()"
   ]
  },
  {
   "cell_type": "code",
   "execution_count": 208,
   "id": "c9cfcec3",
   "metadata": {},
   "outputs": [],
   "source": [
    "login = 'trader'\n",
    "password = 'income'\n",
    "host = 'localhost'\n",
    "port = 5432\n",
    "dbname = 'stocks'"
   ]
  },
  {
   "cell_type": "code",
   "execution_count": 211,
   "id": "2e594526",
   "metadata": {},
   "outputs": [
    {
     "data": {
      "text/plain": [
       "'user=trader password=income host=localhost port=5432 dbname=stocks'"
      ]
     },
     "execution_count": 211,
     "metadata": {},
     "output_type": "execute_result"
    }
   ],
   "source": [
    "DB_URL = f\"user={login} password={password} host={host} port={port} dbname={dbname}\"\n",
    "DB_URL"
   ]
  },
  {
   "cell_type": "code",
   "execution_count": 218,
   "id": "0b651786",
   "metadata": {},
   "outputs": [],
   "source": [
    "def load_df_to_db(df: pd.DataFrame, table_name: str) -> None:\n",
    "    buffer = StringIO()\n",
    "    df.to_csv(buffer, index=False, sep='|', na_rep='NUL', quoting=csv.QUOTE_MINIMAL,\n",
    "             header=False, float_format='%.8f', doublequote=False, escapechar='\\\\')\n",
    "    buffer.seek(0)\n",
    "    copy_querry = f\"\"\"\n",
    "        COPY {table_name}({','.join(df.columns)})\n",
    "        FROM STDIN\n",
    "        DELIMITER '|'\n",
    "        NULL 'NUL'\n",
    "    \"\"\"\n",
    "    conn = psycopg2.connect(dsn=DB_URL)\n",
    "    with conn.cursor() as cursor:\n",
    "        cursor.copy_expert(copy_querry, buffer)\n",
    "    conn.commit()\n",
    "    conn.close()"
   ]
  },
  {
   "cell_type": "code",
   "execution_count": 219,
   "id": "929f5c8e",
   "metadata": {},
   "outputs": [],
   "source": [
    "load_df_to_db(df, 'aapl')"
   ]
  }
 ],
 "metadata": {
  "kernelspec": {
   "display_name": "Python 3 (ipykernel)",
   "language": "python",
   "name": "python3"
  },
  "language_info": {
   "codemirror_mode": {
    "name": "ipython",
    "version": 3
   },
   "file_extension": ".py",
   "mimetype": "text/x-python",
   "name": "python",
   "nbconvert_exporter": "python",
   "pygments_lexer": "ipython3",
   "version": "3.11.4"
  }
 },
 "nbformat": 4,
 "nbformat_minor": 5
}
