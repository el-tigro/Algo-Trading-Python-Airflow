{
 "cells": [
  {
   "cell_type": "code",
   "execution_count": 5,
   "id": "3853592f",
   "metadata": {},
   "outputs": [],
   "source": [
    "import sys\n",
    "sys.path.insert(0, '../airflow/plugins/utils/')"
   ]
  },
  {
   "cell_type": "code",
   "execution_count": 20,
   "id": "44045813",
   "metadata": {},
   "outputs": [],
   "source": [
    "import pandas as pd\n",
    "import numpy as np\n",
    "import db\n",
    "import matplotlib.pyplot as plt"
   ]
  },
  {
   "cell_type": "code",
   "execution_count": 8,
   "id": "d209b9d0",
   "metadata": {},
   "outputs": [
    {
     "data": {
      "text/plain": [
       "'user=trader password=income host=localhost port=5432 dbname=stocks'"
      ]
     },
     "execution_count": 8,
     "metadata": {},
     "output_type": "execute_result"
    }
   ],
   "source": [
    "login = 'trader'\n",
    "password = 'income'\n",
    "host = 'localhost'\n",
    "port = 5432\n",
    "dbname = 'stocks'\n",
    "DB_URL = f\"user={login} password={password} host={host} port={port} dbname={dbname}\"\n",
    "DB_URL"
   ]
  },
  {
   "cell_type": "code",
   "execution_count": 12,
   "id": "ddd71577",
   "metadata": {},
   "outputs": [],
   "source": [
    "def _get_db_url(connector: str) -> str:\n",
    "    return 'user=trader password=income host=localhost port=5432 dbname=stocks'"
   ]
  },
  {
   "cell_type": "code",
   "execution_count": 13,
   "id": "3693f79a",
   "metadata": {},
   "outputs": [],
   "source": [
    "db._get_db_url = _get_db_url"
   ]
  },
  {
   "cell_type": "code",
   "execution_count": 14,
   "id": "5a254984",
   "metadata": {},
   "outputs": [
    {
     "data": {
      "text/html": [
       "<pre style=\"white-space:pre;overflow-x:auto;line-height:normal;font-family:Menlo,'DejaVu Sans Mono',consolas,'Courier New',monospace\"><span style=\"color: #808000; text-decoration-color: #808000; font-weight: bold\">C:\\Users\\Samsung\\Documents\\Courses\\algo-trading-python-airflow\\tinkoff\\notebooks\\../airflow/plugins/utils\\db.py:</span><span style=\"color: #808000; text-decoration-color: #808000; font-weight: bold\">44</span><span style=\"color: #808000; text-decoration-color: #808000; font-weight: bold\"> UserWarning</span><span style=\"color: #808000; text-decoration-color: #808000\">: pandas only supports SQLAlchemy connectable </span><span style=\"color: #808000; text-decoration-color: #808000; font-weight: bold\">(</span><span style=\"color: #808000; text-decoration-color: #808000\">engine/connection</span><span style=\"color: #808000; text-decoration-color: #808000; font-weight: bold\">)</span><span style=\"color: #808000; text-decoration-color: #808000\"> or database string URI or sqlite3 DBAPI2 connection. Other DBAPI2 objects are not tested. Please consider using SQLAlchemy.</span>\n",
       "</pre>\n"
      ],
      "text/plain": [
       "\u001b[1;33mC:\\Users\\Samsung\\Documents\\Courses\\algo-trading-python-airflow\\tinkoff\\notebooks\\..\u001b[0m\u001b[1;33m/airflow/plugins/\u001b[0m\u001b[1;33mutils\u001b[0m\u001b[1;33m\\db.py:\u001b[0m\u001b[1;33m44\u001b[0m\u001b[1;33m UserWarning\u001b[0m\u001b[33m: pandas only supports SQLAlchemy connectable \u001b[0m\u001b[1;33m(\u001b[0m\u001b[33mengine/connection\u001b[0m\u001b[1;33m)\u001b[0m\u001b[33m or database string URI or sqlite3 DBAPI2 connection. Other DBAPI2 objects are not tested. Please consider using SQLAlchemy.\u001b[0m\n"
      ]
     },
     "metadata": {},
     "output_type": "display_data"
    }
   ],
   "source": [
    "data = db.get_data_from_table('adsdf', 'aapl')"
   ]
  },
  {
   "cell_type": "code",
   "execution_count": 15,
   "id": "2d450eba",
   "metadata": {},
   "outputs": [
    {
     "data": {
      "text/html": [
       "<div>\n",
       "<style scoped>\n",
       "    .dataframe tbody tr th:only-of-type {\n",
       "        vertical-align: middle;\n",
       "    }\n",
       "\n",
       "    .dataframe tbody tr th {\n",
       "        vertical-align: top;\n",
       "    }\n",
       "\n",
       "    .dataframe thead th {\n",
       "        text-align: right;\n",
       "    }\n",
       "</style>\n",
       "<table border=\"1\" class=\"dataframe\">\n",
       "  <thead>\n",
       "    <tr style=\"text-align: right;\">\n",
       "      <th></th>\n",
       "      <th>time</th>\n",
       "      <th>open</th>\n",
       "      <th>high</th>\n",
       "      <th>low</th>\n",
       "      <th>close</th>\n",
       "      <th>volume</th>\n",
       "    </tr>\n",
       "  </thead>\n",
       "  <tbody>\n",
       "    <tr>\n",
       "      <th>0</th>\n",
       "      <td>2022-09-11 04:00:00</td>\n",
       "      <td>157.81</td>\n",
       "      <td>158.44</td>\n",
       "      <td>156.94</td>\n",
       "      <td>156.94</td>\n",
       "      <td>232</td>\n",
       "    </tr>\n",
       "    <tr>\n",
       "      <th>1</th>\n",
       "      <td>2022-09-12 04:00:00</td>\n",
       "      <td>158.41</td>\n",
       "      <td>164.26</td>\n",
       "      <td>157.77</td>\n",
       "      <td>163.71</td>\n",
       "      <td>23452293</td>\n",
       "    </tr>\n",
       "    <tr>\n",
       "      <th>2</th>\n",
       "      <td>2022-09-13 04:00:00</td>\n",
       "      <td>164.10</td>\n",
       "      <td>164.90</td>\n",
       "      <td>153.38</td>\n",
       "      <td>154.20</td>\n",
       "      <td>31829409</td>\n",
       "    </tr>\n",
       "    <tr>\n",
       "      <th>3</th>\n",
       "      <td>2022-09-14 04:00:00</td>\n",
       "      <td>154.71</td>\n",
       "      <td>158.35</td>\n",
       "      <td>153.25</td>\n",
       "      <td>155.80</td>\n",
       "      <td>22053626</td>\n",
       "    </tr>\n",
       "    <tr>\n",
       "      <th>4</th>\n",
       "      <td>2022-09-15 04:00:00</td>\n",
       "      <td>155.63</td>\n",
       "      <td>156.00</td>\n",
       "      <td>151.01</td>\n",
       "      <td>151.32</td>\n",
       "      <td>20809555</td>\n",
       "    </tr>\n",
       "  </tbody>\n",
       "</table>\n",
       "</div>"
      ],
      "text/plain": [
       "                 time    open    high     low   close    volume\n",
       "0 2022-09-11 04:00:00  157.81  158.44  156.94  156.94       232\n",
       "1 2022-09-12 04:00:00  158.41  164.26  157.77  163.71  23452293\n",
       "2 2022-09-13 04:00:00  164.10  164.90  153.38  154.20  31829409\n",
       "3 2022-09-14 04:00:00  154.71  158.35  153.25  155.80  22053626\n",
       "4 2022-09-15 04:00:00  155.63  156.00  151.01  151.32  20809555"
      ]
     },
     "execution_count": 15,
     "metadata": {},
     "output_type": "execute_result"
    }
   ],
   "source": [
    "data.head()"
   ]
  },
  {
   "cell_type": "code",
   "execution_count": 18,
   "id": "31d2390e",
   "metadata": {},
   "outputs": [],
   "source": [
    "SMA_SHORT = 50\n",
    "SMA_LONG = 200"
   ]
  },
  {
   "cell_type": "code",
   "execution_count": 19,
   "id": "9f3ebd86",
   "metadata": {},
   "outputs": [],
   "source": [
    "data['sma_short'] = data['close'].rolling(SMA_SHORT).mean()\n",
    "data['sma_long'] = data['close'].rolling(SMA_LONG).mean()"
   ]
  },
  {
   "cell_type": "code",
   "execution_count": 23,
   "id": "1a1f5469",
   "metadata": {
    "scrolled": true
   },
   "outputs": [
    {
     "data": {
      "text/plain": [
       "<Axes: title={'center': 'CROSS_SMA: 50 and 200'}>"
      ]
     },
     "execution_count": 23,
     "metadata": {},
     "output_type": "execute_result"
    },
    {
     "data": {
      "image/png": "[encoded data removed]",
      "text/plain": [
       "<Figure size 1200x800 with 1 Axes>"
      ]
     },
     "metadata": {},
     "output_type": "display_data"
    }
   ],
   "source": [
    "data[['close','sma_short','sma_long']]\\\n",
    "    .plot(figsize=(12, 8), title=f'CROSS_SMA: {SMA_SHORT} and {SMA_LONG}')"
   ]
  },
  {
   "cell_type": "code",
   "execution_count": 24,
   "id": "474ee0c5",
   "metadata": {},
   "outputs": [],
   "source": [
    "data['position'] = np.where(data['sma_short']>data['sma_long'], 1 ,-1)"
   ]
  },
  {
   "cell_type": "code",
   "execution_count": 25,
   "id": "22eb6197",
   "metadata": {},
   "outputs": [
    {
     "data": {
      "text/plain": [
       "-1    199\n",
       " 1     96\n",
       "Name: position, dtype: int64"
      ]
     },
     "execution_count": 25,
     "metadata": {},
     "output_type": "execute_result"
    }
   ],
   "source": [
    "data['position'].value_counts()"
   ]
  },
  {
   "cell_type": "code",
   "execution_count": 26,
   "id": "50c6900e",
   "metadata": {},
   "outputs": [
    {
     "data": {
      "text/html": [
       "<div>\n",
       "<style scoped>\n",
       "    .dataframe tbody tr th:only-of-type {\n",
       "        vertical-align: middle;\n",
       "    }\n",
       "\n",
       "    .dataframe tbody tr th {\n",
       "        vertical-align: top;\n",
       "    }\n",
       "\n",
       "    .dataframe thead th {\n",
       "        text-align: right;\n",
       "    }\n",
       "</style>\n",
       "<table border=\"1\" class=\"dataframe\">\n",
       "  <thead>\n",
       "    <tr style=\"text-align: right;\">\n",
       "      <th></th>\n",
       "      <th>time</th>\n",
       "      <th>open</th>\n",
       "      <th>high</th>\n",
       "      <th>low</th>\n",
       "      <th>close</th>\n",
       "      <th>volume</th>\n",
       "      <th>sma_short</th>\n",
       "      <th>sma_long</th>\n",
       "      <th>position</th>\n",
       "    </tr>\n",
       "  </thead>\n",
       "  <tbody>\n",
       "    <tr>\n",
       "      <th>285</th>\n",
       "      <td>2023-08-25 04:00:00</td>\n",
       "      <td>176.58</td>\n",
       "      <td>179.14</td>\n",
       "      <td>175.46</td>\n",
       "      <td>178.41</td>\n",
       "      <td>13624519</td>\n",
       "      <td>186.5138</td>\n",
       "      <td>161.49805</td>\n",
       "      <td>1</td>\n",
       "    </tr>\n",
       "    <tr>\n",
       "      <th>286</th>\n",
       "      <td>2023-08-28 04:00:00</td>\n",
       "      <td>178.99</td>\n",
       "      <td>180.59</td>\n",
       "      <td>178.04</td>\n",
       "      <td>180.30</td>\n",
       "      <td>10733032</td>\n",
       "      <td>186.4060</td>\n",
       "      <td>161.69155</td>\n",
       "      <td>1</td>\n",
       "    </tr>\n",
       "    <tr>\n",
       "      <th>287</th>\n",
       "      <td>2023-08-29 04:00:00</td>\n",
       "      <td>180.30</td>\n",
       "      <td>184.90</td>\n",
       "      <td>179.32</td>\n",
       "      <td>184.58</td>\n",
       "      <td>14255045</td>\n",
       "      <td>186.3980</td>\n",
       "      <td>161.90370</td>\n",
       "      <td>1</td>\n",
       "    </tr>\n",
       "    <tr>\n",
       "      <th>288</th>\n",
       "      <td>2023-08-30 04:00:00</td>\n",
       "      <td>184.06</td>\n",
       "      <td>187.79</td>\n",
       "      <td>183.53</td>\n",
       "      <td>187.66</td>\n",
       "      <td>13844418</td>\n",
       "      <td>186.4562</td>\n",
       "      <td>162.12040</td>\n",
       "      <td>1</td>\n",
       "    </tr>\n",
       "    <tr>\n",
       "      <th>289</th>\n",
       "      <td>2023-08-31 04:00:00</td>\n",
       "      <td>187.89</td>\n",
       "      <td>189.11</td>\n",
       "      <td>186.96</td>\n",
       "      <td>188.10</td>\n",
       "      <td>18671888</td>\n",
       "      <td>186.5450</td>\n",
       "      <td>162.33370</td>\n",
       "      <td>1</td>\n",
       "    </tr>\n",
       "    <tr>\n",
       "      <th>290</th>\n",
       "      <td>2023-09-01 04:00:00</td>\n",
       "      <td>188.01</td>\n",
       "      <td>189.92</td>\n",
       "      <td>188.00</td>\n",
       "      <td>189.27</td>\n",
       "      <td>11408808</td>\n",
       "      <td>186.5872</td>\n",
       "      <td>162.56320</td>\n",
       "      <td>1</td>\n",
       "    </tr>\n",
       "    <tr>\n",
       "      <th>291</th>\n",
       "      <td>2023-09-05 04:00:00</td>\n",
       "      <td>188.94</td>\n",
       "      <td>189.98</td>\n",
       "      <td>187.09</td>\n",
       "      <td>189.68</td>\n",
       "      <td>12748142</td>\n",
       "      <td>186.6512</td>\n",
       "      <td>162.82995</td>\n",
       "      <td>1</td>\n",
       "    </tr>\n",
       "    <tr>\n",
       "      <th>292</th>\n",
       "      <td>2023-09-06 04:00:00</td>\n",
       "      <td>189.20</td>\n",
       "      <td>189.56</td>\n",
       "      <td>181.47</td>\n",
       "      <td>182.75</td>\n",
       "      <td>18322185</td>\n",
       "      <td>186.6002</td>\n",
       "      <td>163.07200</td>\n",
       "      <td>1</td>\n",
       "    </tr>\n",
       "    <tr>\n",
       "      <th>293</th>\n",
       "      <td>2023-09-07 04:00:00</td>\n",
       "      <td>182.14</td>\n",
       "      <td>182.14</td>\n",
       "      <td>173.54</td>\n",
       "      <td>178.00</td>\n",
       "      <td>26229760</td>\n",
       "      <td>186.4042</td>\n",
       "      <td>163.28820</td>\n",
       "      <td>1</td>\n",
       "    </tr>\n",
       "    <tr>\n",
       "      <th>294</th>\n",
       "      <td>2023-09-08 04:00:00</td>\n",
       "      <td>178.50</td>\n",
       "      <td>180.23</td>\n",
       "      <td>177.05</td>\n",
       "      <td>178.77</td>\n",
       "      <td>14234637</td>\n",
       "      <td>186.1878</td>\n",
       "      <td>163.51585</td>\n",
       "      <td>1</td>\n",
       "    </tr>\n",
       "  </tbody>\n",
       "</table>\n",
       "</div>"
      ],
      "text/plain": [
       "                   time    open    high     low   close    volume  sma_short  \\\n",
       "285 2023-08-25 04:00:00  176.58  179.14  175.46  178.41  13624519   186.5138   \n",
       "286 2023-08-28 04:00:00  178.99  180.59  178.04  180.30  10733032   186.4060   \n",
       "287 2023-08-29 04:00:00  180.30  184.90  179.32  184.58  14255045   186.3980   \n",
       "288 2023-08-30 04:00:00  184.06  187.79  183.53  187.66  13844418   186.4562   \n",
       "289 2023-08-31 04:00:00  187.89  189.11  186.96  188.10  18671888   186.5450   \n",
       "290 2023-09-01 04:00:00  188.01  189.92  188.00  189.27  11408808   186.5872   \n",
       "291 2023-09-05 04:00:00  188.94  189.98  187.09  189.68  12748142   186.6512   \n",
       "292 2023-09-06 04:00:00  189.20  189.56  181.47  182.75  18322185   186.6002   \n",
       "293 2023-09-07 04:00:00  182.14  182.14  173.54  178.00  26229760   186.4042   \n",
       "294 2023-09-08 04:00:00  178.50  180.23  177.05  178.77  14234637   186.1878   \n",
       "\n",
       "      sma_long  position  \n",
       "285  161.49805         1  \n",
       "286  161.69155         1  \n",
       "287  161.90370         1  \n",
       "288  162.12040         1  \n",
       "289  162.33370         1  \n",
       "290  162.56320         1  \n",
       "291  162.82995         1  \n",
       "292  163.07200         1  \n",
       "293  163.28820         1  \n",
       "294  163.51585         1  "
      ]
     },
     "execution_count": 26,
     "metadata": {},
     "output_type": "execute_result"
    }
   ],
   "source": [
    "data.tail(10)"
   ]
  },
  {
   "cell_type": "code",
   "execution_count": 27,
   "id": "8af4bccf",
   "metadata": {},
   "outputs": [
    {
     "data": {
      "text/html": [
       "<div>\n",
       "<style scoped>\n",
       "    .dataframe tbody tr th:only-of-type {\n",
       "        vertical-align: middle;\n",
       "    }\n",
       "\n",
       "    .dataframe tbody tr th {\n",
       "        vertical-align: top;\n",
       "    }\n",
       "\n",
       "    .dataframe thead th {\n",
       "        text-align: right;\n",
       "    }\n",
       "</style>\n",
       "<table border=\"1\" class=\"dataframe\">\n",
       "  <thead>\n",
       "    <tr style=\"text-align: right;\">\n",
       "      <th></th>\n",
       "      <th>time</th>\n",
       "      <th>open</th>\n",
       "      <th>high</th>\n",
       "      <th>low</th>\n",
       "      <th>close</th>\n",
       "      <th>volume</th>\n",
       "      <th>sma_short</th>\n",
       "      <th>sma_long</th>\n",
       "      <th>position</th>\n",
       "    </tr>\n",
       "  </thead>\n",
       "  <tbody>\n",
       "    <tr>\n",
       "      <th>0</th>\n",
       "      <td>2022-09-11 04:00:00</td>\n",
       "      <td>157.81</td>\n",
       "      <td>158.44</td>\n",
       "      <td>156.94</td>\n",
       "      <td>156.94</td>\n",
       "      <td>232</td>\n",
       "      <td>NaN</td>\n",
       "      <td>NaN</td>\n",
       "      <td>-1</td>\n",
       "    </tr>\n",
       "    <tr>\n",
       "      <th>1</th>\n",
       "      <td>2022-09-12 04:00:00</td>\n",
       "      <td>158.41</td>\n",
       "      <td>164.26</td>\n",
       "      <td>157.77</td>\n",
       "      <td>163.71</td>\n",
       "      <td>23452293</td>\n",
       "      <td>NaN</td>\n",
       "      <td>NaN</td>\n",
       "      <td>-1</td>\n",
       "    </tr>\n",
       "    <tr>\n",
       "      <th>2</th>\n",
       "      <td>2022-09-13 04:00:00</td>\n",
       "      <td>164.10</td>\n",
       "      <td>164.90</td>\n",
       "      <td>153.38</td>\n",
       "      <td>154.20</td>\n",
       "      <td>31829409</td>\n",
       "      <td>NaN</td>\n",
       "      <td>NaN</td>\n",
       "      <td>-1</td>\n",
       "    </tr>\n",
       "    <tr>\n",
       "      <th>3</th>\n",
       "      <td>2022-09-14 04:00:00</td>\n",
       "      <td>154.71</td>\n",
       "      <td>158.35</td>\n",
       "      <td>153.25</td>\n",
       "      <td>155.80</td>\n",
       "      <td>22053626</td>\n",
       "      <td>NaN</td>\n",
       "      <td>NaN</td>\n",
       "      <td>-1</td>\n",
       "    </tr>\n",
       "    <tr>\n",
       "      <th>4</th>\n",
       "      <td>2022-09-15 04:00:00</td>\n",
       "      <td>155.63</td>\n",
       "      <td>156.00</td>\n",
       "      <td>151.01</td>\n",
       "      <td>151.32</td>\n",
       "      <td>20809555</td>\n",
       "      <td>NaN</td>\n",
       "      <td>NaN</td>\n",
       "      <td>-1</td>\n",
       "    </tr>\n",
       "  </tbody>\n",
       "</table>\n",
       "</div>"
      ],
      "text/plain": [
       "                 time    open    high     low   close    volume  sma_short  \\\n",
       "0 2022-09-11 04:00:00  157.81  158.44  156.94  156.94       232        NaN   \n",
       "1 2022-09-12 04:00:00  158.41  164.26  157.77  163.71  23452293        NaN   \n",
       "2 2022-09-13 04:00:00  164.10  164.90  153.38  154.20  31829409        NaN   \n",
       "3 2022-09-14 04:00:00  154.71  158.35  153.25  155.80  22053626        NaN   \n",
       "4 2022-09-15 04:00:00  155.63  156.00  151.01  151.32  20809555        NaN   \n",
       "\n",
       "   sma_long  position  \n",
       "0       NaN        -1  \n",
       "1       NaN        -1  \n",
       "2       NaN        -1  \n",
       "3       NaN        -1  \n",
       "4       NaN        -1  "
      ]
     },
     "execution_count": 27,
     "metadata": {},
     "output_type": "execute_result"
    }
   ],
   "source": [
    "data.head()"
   ]
  },
  {
   "cell_type": "code",
   "execution_count": 29,
   "id": "3ffbc1db",
   "metadata": {},
   "outputs": [
    {
     "data": {
      "text/html": [
       "<div>\n",
       "<style scoped>\n",
       "    .dataframe tbody tr th:only-of-type {\n",
       "        vertical-align: middle;\n",
       "    }\n",
       "\n",
       "    .dataframe tbody tr th {\n",
       "        vertical-align: top;\n",
       "    }\n",
       "\n",
       "    .dataframe thead th {\n",
       "        text-align: right;\n",
       "    }\n",
       "</style>\n",
       "<table border=\"1\" class=\"dataframe\">\n",
       "  <thead>\n",
       "    <tr style=\"text-align: right;\">\n",
       "      <th></th>\n",
       "      <th>time</th>\n",
       "      <th>position</th>\n",
       "      <th>strategy_type</th>\n",
       "    </tr>\n",
       "  </thead>\n",
       "  <tbody>\n",
       "    <tr>\n",
       "      <th>290</th>\n",
       "      <td>2023-09-01 04:00:00</td>\n",
       "      <td>1</td>\n",
       "      <td>sma</td>\n",
       "    </tr>\n",
       "    <tr>\n",
       "      <th>291</th>\n",
       "      <td>2023-09-05 04:00:00</td>\n",
       "      <td>1</td>\n",
       "      <td>sma</td>\n",
       "    </tr>\n",
       "    <tr>\n",
       "      <th>292</th>\n",
       "      <td>2023-09-06 04:00:00</td>\n",
       "      <td>1</td>\n",
       "      <td>sma</td>\n",
       "    </tr>\n",
       "    <tr>\n",
       "      <th>293</th>\n",
       "      <td>2023-09-07 04:00:00</td>\n",
       "      <td>1</td>\n",
       "      <td>sma</td>\n",
       "    </tr>\n",
       "    <tr>\n",
       "      <th>294</th>\n",
       "      <td>2023-09-08 04:00:00</td>\n",
       "      <td>1</td>\n",
       "      <td>sma</td>\n",
       "    </tr>\n",
       "  </tbody>\n",
       "</table>\n",
       "</div>"
      ],
      "text/plain": [
       "                   time  position strategy_type\n",
       "290 2023-09-01 04:00:00         1           sma\n",
       "291 2023-09-05 04:00:00         1           sma\n",
       "292 2023-09-06 04:00:00         1           sma\n",
       "293 2023-09-07 04:00:00         1           sma\n",
       "294 2023-09-08 04:00:00         1           sma"
      ]
     },
     "execution_count": 29,
     "metadata": {},
     "output_type": "execute_result"
    }
   ],
   "source": [
    "data[['time', 'position']].tail(5).assign(strategy_type='sma')"
   ]
  }
 ],
 "metadata": {
  "kernelspec": {
   "display_name": "Python 3 (ipykernel)",
   "language": "python",
   "name": "python3"
  },
  "language_info": {
   "codemirror_mode": {
    "name": "ipython",
    "version": 3
   },
   "file_extension": ".py",
   "mimetype": "text/x-python",
   "name": "python",
   "nbconvert_exporter": "python",
   "pygments_lexer": "ipython3",
   "version": "3.11.4"
  }
 },
 "nbformat": 4,
 "nbformat_minor": 5
}
